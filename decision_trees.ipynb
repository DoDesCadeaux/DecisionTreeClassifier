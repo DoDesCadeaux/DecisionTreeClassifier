{
 "cells": [
  {
   "cell_type": "code",
   "execution_count": 1,
   "metadata": {
    "id": "IKNjHvT1V3WJ"
   },
   "outputs": [],
   "source": [
    "import numpy as np\n",
    "import pandas as pd\n",
    "import random\n",
    "from sklearn.model_selection import train_test_split\n",
    "from sklearn.metrics import accuracy_score\n",
    "from sklearn.tree import DecisionTreeClassifier"
   ]
  },
  {
   "cell_type": "code",
   "execution_count": 2,
   "metadata": {
    "colab": {
     "base_uri": "https://localhost:8080/"
    },
    "id": "QjrZu5tMX0i4",
    "outputId": "5bd304fe-5d31-4a58-b96d-13d57ed2448b"
   },
   "outputs": [
    {
     "data": {
      "text/plain": [
       "(     sepal length (cm)  sepal width (cm)  petal length (cm)  petal width (cm)\n",
       " 0                  5.1               3.5                1.4               0.2\n",
       " 1                  4.9               3.0                1.4               0.2\n",
       " 2                  4.7               3.2                1.3               0.2\n",
       " 3                  4.6               3.1                1.5               0.2\n",
       " 4                  5.0               3.6                1.4               0.2\n",
       " ..                 ...               ...                ...               ...\n",
       " 145                6.7               3.0                5.2               2.3\n",
       " 146                6.3               2.5                5.0               1.9\n",
       " 147                6.5               3.0                5.2               2.0\n",
       " 148                6.2               3.4                5.4               2.3\n",
       " 149                5.9               3.0                5.1               1.8\n",
       " \n",
       " [150 rows x 4 columns],\n",
       " 0      0\n",
       " 1      0\n",
       " 2      0\n",
       " 3      0\n",
       " 4      0\n",
       "       ..\n",
       " 145    2\n",
       " 146    2\n",
       " 147    2\n",
       " 148    2\n",
       " 149    2\n",
       " Name: target, Length: 150, dtype: int64)"
      ]
     },
     "execution_count": 2,
     "metadata": {},
     "output_type": "execute_result"
    }
   ],
   "source": [
    "path = 'iris.csv'\n",
    "iris = pd.read_csv(path)\n",
    "\n",
    "y = iris['target']\n",
    "X = iris.iloc[:, :-1]\n",
    "\n",
    "X, y"
   ]
  },
  {
   "cell_type": "code",
   "execution_count": 20,
   "metadata": {
    "id": "Muo6Ct82YGjE"
   },
   "outputs": [],
   "source": [
    "class MyDecisionTree:\n",
    "    def __init__(self, criterion='random', max_depth=10, min_sample_split=2) -> None:\n",
    "        self.criterion = criterion\n",
    "        self.max_depth = max_depth\n",
    "        self.min_sample_split = min_sample_split\n",
    "\n",
    "    def fit(self, X, y):\n",
    "        self.tree = self._build_tree(X, y)\n",
    "\n",
    "    def _build_tree(self, X, y, depth=0):\n",
    "        if depth == self.max_depth or len(y) < self.min_sample_split:\n",
    "            return LeafNode(self._get_leaf_value(y))\n",
    "\n",
    "        feature_index, threshold = self._choose_feature(X, y)\n",
    "\n",
    "        if feature_index is None or threshold is None:\n",
    "            return LeafNode(self._get_leaf_value(y))\n",
    "        min_value = np.min(X.iloc[:, feature_index])\n",
    "        max_value = np.max(X.iloc[:, feature_index])\n",
    "\n",
    "        left_indices = X.iloc[:, feature_index] < threshold\n",
    "        right_indices = X.iloc[:, feature_index] >= threshold\n",
    "\n",
    "        if left_indices.sum() == 0 or right_indices.sum() == 0:\n",
    "            return LeafNode(self._get_leaf_value(y))\n",
    "\n",
    "        left_tree = self._build_tree(X[left_indices], y[left_indices], depth + 1)\n",
    "        right_tree = self._build_tree(X[right_indices], y[right_indices], depth + 1)\n",
    "        \n",
    "        return SplitNode(feature_index, threshold, left_tree, right_tree)\n",
    "\n",
    "    def _choose_feature(self, X, y):\n",
    "        best_feature = None\n",
    "        best_threshold = None\n",
    "        best_gini = float('inf')\n",
    "\n",
    "        for feature_index in range(X.shape[1]):\n",
    "            feature_values = X.iloc[:, feature_index].sort_values().unique()\n",
    "            thresholds = (feature_values[:-1] + feature_values[1:]) / 2\n",
    "            for threshold in thresholds:\n",
    "                gini = self._calculate_gini(X, y, feature_index, threshold)\n",
    "                if gini < best_gini:\n",
    "                    best_gini = gini\n",
    "                    best_feature = feature_index\n",
    "                    best_threshold = threshold\n",
    "        return best_feature, best_threshold\n",
    "\n",
    "    def _calculate_gini(self, X, y, feature_index, threshold):\n",
    "        left_indices = X.iloc[:, feature_index] < threshold\n",
    "        right_indices = X.iloc[:, feature_index] >= threshold\n",
    "\n",
    "        n = len(y)\n",
    "        n_left = left_indices.sum()\n",
    "        n_right = right_indices.sum()\n",
    "\n",
    "        if n_right == 0 or n_left == 0: # Cas ou division separe mal donc pas efficace\n",
    "            return float('inf') # On retourne inf pour definir que cette division est tres mauvaise\n",
    "\n",
    "        left_gini = 1 - sum((np.sum(y[left_indices] == x) / n_left) ** 2 for x in np.unique(y))\n",
    "        right_gini = 1 - sum((np.sum(y[right_indices] == x) / n_right) ** 2 for x in np.unique(y))\n",
    "\n",
    "        weighted_gini = (n_left / n) * left_gini + (n_right / n) * right_gini\n",
    "        return weighted_gini\n",
    "    \n",
    "    def _get_leaf_value(self, y):\n",
    "        if y.empty:\n",
    "            return print(y)\n",
    "        else:\n",
    "            return y.mode().iloc[0]\n",
    "\n",
    "    def predict(self, X):\n",
    "        return np.array(X.apply(self._predict_one, axis=1))\n",
    "\n",
    "    def _predict_one(self, x):\n",
    "        node = self.tree\n",
    "        while isinstance(node, SplitNode):\n",
    "            feature_value = x.iloc[node.feature_index]\n",
    "            if not isinstance(feature_value, (int, float)):\n",
    "                raise ValueError(f\"Feature value {feature_value} at index {node.feature_index} is not numeric\")\n",
    "            if feature_value <= node.threshold:\n",
    "                if node.left == None:\n",
    "                    node = node.right\n",
    "                else:\n",
    "                    node = node.left\n",
    "            else:\n",
    "                if node.right == None:\n",
    "                    node = node.left\n",
    "                else:\n",
    "                    node = node.right\n",
    "        return node.value\n",
    "\n",
    "class SplitNode:\n",
    "    def __init__(self, feature_index, threshold, left, right) -> None:\n",
    "        self.feature_index = feature_index\n",
    "        self.threshold = threshold\n",
    "        self.left = left\n",
    "        self.right = right\n",
    "\n",
    "class LeafNode:\n",
    "    def __init__(self, value) -> None:\n",
    "        self.value = value"
   ]
  },
  {
   "cell_type": "code",
   "execution_count": 4,
   "metadata": {},
   "outputs": [],
   "source": [
    "X_train, X_test, y_train, y_test = train_test_split(X, y, test_size=0.2, random_state=42)"
   ]
  },
  {
   "cell_type": "code",
   "execution_count": 21,
   "metadata": {
    "id": "lMNCpCP4Cub7"
   },
   "outputs": [
    {
     "name": "stdout",
     "output_type": "stream",
     "text": [
      "My prediction: 1.0\n",
      "[1 0 2 1 1 0 1 2 1 1 2 0 0 0 0 1 2 1 1 2 0 2 0 2 2 2 2 2 0 0]\n"
     ]
    }
   ],
   "source": [
    "obj = MyDecisionTree(max_depth=15)\n",
    "obj.fit(X_train, y_train)\n",
    "my_prediction = obj.predict(X_test)\n",
    "my_accuracy = accuracy_score(y_test, my_prediction)\n",
    "print(\"My prediction:\", my_accuracy)\n",
    "print(my_prediction)"
   ]
  },
  {
   "cell_type": "code",
   "execution_count": 10,
   "metadata": {},
   "outputs": [
    {
     "name": "stdout",
     "output_type": "stream",
     "text": [
      "\n",
      " Sk-learn prediction: 1.0\n"
     ]
    }
   ],
   "source": [
    "clf = DecisionTreeClassifier(max_depth=10, random_state=42)\n",
    "clf.fit(X_train, y_train)\n",
    "sk_predict = clf.predict(X_test)\n",
    "sk_accuracy = accuracy_score(y_test, sk_predict)\n",
    "print(\"\\n Sk-learn prediction:\", sk_accuracy)"
   ]
  },
  {
   "cell_type": "code",
   "execution_count": 7,
   "metadata": {},
   "outputs": [
    {
     "name": "stdout",
     "output_type": "stream",
     "text": [
      "\n",
      "Comparaison des prédictions:\n",
      "     Vraie valeur  Ma prédiction  Prédiction scikit-learn\n",
      "73              1              1                        1\n",
      "18              0              0                        0\n",
      "118             2              2                        2\n",
      "78              1              1                        1\n",
      "76              1              1                        1\n",
      "31              0              0                        0\n",
      "64              1              1                        1\n",
      "141             2              2                        2\n",
      "68              1              1                        1\n",
      "82              1              1                        1\n",
      "\n",
      "Différence de précision: 0.0000\n"
     ]
    }
   ],
   "source": [
    "print(\"\\nComparaison des prédictions:\")\n",
    "comparison = pd.DataFrame({\n",
    "    'Vraie valeur': y_test,\n",
    "    'Ma prédiction': my_prediction,\n",
    "    'Prédiction scikit-learn': sk_predict\n",
    "})\n",
    "print(comparison.head(10))\n",
    "\n",
    "print(f\"\\nDifférence de précision: {abs(my_accuracy - sk_accuracy):.4f}\")"
   ]
  }
 ],
 "metadata": {
  "colab": {
   "provenance": []
  },
  "kernelspec": {
   "display_name": "Python 3 (ipykernel)",
   "language": "python",
   "name": "python3"
  },
  "language_info": {
   "codemirror_mode": {
    "name": "ipython",
    "version": 3
   },
   "file_extension": ".py",
   "mimetype": "text/x-python",
   "name": "python",
   "nbconvert_exporter": "python",
   "pygments_lexer": "ipython3",
   "version": "3.10.12"
  }
 },
 "nbformat": 4,
 "nbformat_minor": 4
}
